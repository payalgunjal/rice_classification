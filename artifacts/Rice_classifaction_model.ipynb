{
 "cells": [
  {
   "cell_type": "code",
   "execution_count": 43,
   "id": "ee1c613e",
   "metadata": {},
   "outputs": [],
   "source": [
    "import pandas as pd\n",
    "import numpy as np\n",
    "\n",
    "import matplotlib.pyplot as plt\n",
    "import seaborn as sns\n",
    "import pickle\n",
    "\n",
    "from sklearn.model_selection import train_test_split\n",
    "from sklearn.linear_model import LogisticRegression\n",
    "from statsmodels.stats.outliers_influence import variance_inflation_factor\n",
    "from sklearn.metrics import confusion_matrix, classification_report, accuracy_score, f1_score, recall_score, precision_score\n",
    "from sklearn.metrics import roc_auc_score,roc_curve, precision_recall_curve, plot_confusion_matrix"
   ]
  },
  {
   "cell_type": "code",
   "execution_count": 2,
   "id": "d688eb2b",
   "metadata": {},
   "outputs": [
    {
     "data": {
      "text/html": [
       "<div>\n",
       "<style scoped>\n",
       "    .dataframe tbody tr th:only-of-type {\n",
       "        vertical-align: middle;\n",
       "    }\n",
       "\n",
       "    .dataframe tbody tr th {\n",
       "        vertical-align: top;\n",
       "    }\n",
       "\n",
       "    .dataframe thead th {\n",
       "        text-align: right;\n",
       "    }\n",
       "</style>\n",
       "<table border=\"1\" class=\"dataframe\">\n",
       "  <thead>\n",
       "    <tr style=\"text-align: right;\">\n",
       "      <th></th>\n",
       "      <th>Area</th>\n",
       "      <th>MajorAxisLength</th>\n",
       "      <th>MinorAxisLength</th>\n",
       "      <th>Eccentricity</th>\n",
       "      <th>ConvexArea</th>\n",
       "      <th>EquivDiameter</th>\n",
       "      <th>Extent</th>\n",
       "      <th>Perimeter</th>\n",
       "      <th>Roundness</th>\n",
       "      <th>AspectRation</th>\n",
       "      <th>Class</th>\n",
       "    </tr>\n",
       "  </thead>\n",
       "  <tbody>\n",
       "    <tr>\n",
       "      <th>0</th>\n",
       "      <td>4537</td>\n",
       "      <td>92.229316</td>\n",
       "      <td>64.012769</td>\n",
       "      <td>0.719916</td>\n",
       "      <td>4677</td>\n",
       "      <td>76.004525</td>\n",
       "      <td>0.657536</td>\n",
       "      <td>273.085</td>\n",
       "      <td>0.764510</td>\n",
       "      <td>1.440796</td>\n",
       "      <td>1</td>\n",
       "    </tr>\n",
       "    <tr>\n",
       "      <th>1</th>\n",
       "      <td>2872</td>\n",
       "      <td>74.691881</td>\n",
       "      <td>51.400454</td>\n",
       "      <td>0.725553</td>\n",
       "      <td>3015</td>\n",
       "      <td>60.471018</td>\n",
       "      <td>0.713009</td>\n",
       "      <td>208.317</td>\n",
       "      <td>0.831658</td>\n",
       "      <td>1.453137</td>\n",
       "      <td>1</td>\n",
       "    </tr>\n",
       "    <tr>\n",
       "      <th>2</th>\n",
       "      <td>3048</td>\n",
       "      <td>76.293164</td>\n",
       "      <td>52.043491</td>\n",
       "      <td>0.731211</td>\n",
       "      <td>3132</td>\n",
       "      <td>62.296341</td>\n",
       "      <td>0.759153</td>\n",
       "      <td>210.012</td>\n",
       "      <td>0.868434</td>\n",
       "      <td>1.465950</td>\n",
       "      <td>1</td>\n",
       "    </tr>\n",
       "    <tr>\n",
       "      <th>3</th>\n",
       "      <td>3073</td>\n",
       "      <td>77.033628</td>\n",
       "      <td>51.928487</td>\n",
       "      <td>0.738639</td>\n",
       "      <td>3157</td>\n",
       "      <td>62.551300</td>\n",
       "      <td>0.783529</td>\n",
       "      <td>210.657</td>\n",
       "      <td>0.870203</td>\n",
       "      <td>1.483456</td>\n",
       "      <td>1</td>\n",
       "    </tr>\n",
       "    <tr>\n",
       "      <th>4</th>\n",
       "      <td>3693</td>\n",
       "      <td>85.124785</td>\n",
       "      <td>56.374021</td>\n",
       "      <td>0.749282</td>\n",
       "      <td>3802</td>\n",
       "      <td>68.571668</td>\n",
       "      <td>0.769375</td>\n",
       "      <td>230.332</td>\n",
       "      <td>0.874743</td>\n",
       "      <td>1.510000</td>\n",
       "      <td>1</td>\n",
       "    </tr>\n",
       "    <tr>\n",
       "      <th>...</th>\n",
       "      <td>...</td>\n",
       "      <td>...</td>\n",
       "      <td>...</td>\n",
       "      <td>...</td>\n",
       "      <td>...</td>\n",
       "      <td>...</td>\n",
       "      <td>...</td>\n",
       "      <td>...</td>\n",
       "      <td>...</td>\n",
       "      <td>...</td>\n",
       "      <td>...</td>\n",
       "    </tr>\n",
       "    <tr>\n",
       "      <th>18180</th>\n",
       "      <td>5853</td>\n",
       "      <td>148.624571</td>\n",
       "      <td>51.029281</td>\n",
       "      <td>0.939210</td>\n",
       "      <td>6008</td>\n",
       "      <td>86.326537</td>\n",
       "      <td>0.498594</td>\n",
       "      <td>332.960</td>\n",
       "      <td>0.663444</td>\n",
       "      <td>2.912535</td>\n",
       "      <td>0</td>\n",
       "    </tr>\n",
       "    <tr>\n",
       "      <th>18181</th>\n",
       "      <td>7585</td>\n",
       "      <td>169.593996</td>\n",
       "      <td>58.141659</td>\n",
       "      <td>0.939398</td>\n",
       "      <td>7806</td>\n",
       "      <td>98.272692</td>\n",
       "      <td>0.647461</td>\n",
       "      <td>385.506</td>\n",
       "      <td>0.641362</td>\n",
       "      <td>2.916910</td>\n",
       "      <td>0</td>\n",
       "    </tr>\n",
       "    <tr>\n",
       "      <th>18182</th>\n",
       "      <td>6365</td>\n",
       "      <td>154.777085</td>\n",
       "      <td>52.908085</td>\n",
       "      <td>0.939760</td>\n",
       "      <td>6531</td>\n",
       "      <td>90.023162</td>\n",
       "      <td>0.561287</td>\n",
       "      <td>342.253</td>\n",
       "      <td>0.682832</td>\n",
       "      <td>2.925396</td>\n",
       "      <td>0</td>\n",
       "    </tr>\n",
       "    <tr>\n",
       "      <th>18183</th>\n",
       "      <td>5960</td>\n",
       "      <td>151.397924</td>\n",
       "      <td>51.474600</td>\n",
       "      <td>0.940427</td>\n",
       "      <td>6189</td>\n",
       "      <td>87.112041</td>\n",
       "      <td>0.492399</td>\n",
       "      <td>343.371</td>\n",
       "      <td>0.635227</td>\n",
       "      <td>2.941216</td>\n",
       "      <td>0</td>\n",
       "    </tr>\n",
       "    <tr>\n",
       "      <th>18184</th>\n",
       "      <td>6134</td>\n",
       "      <td>153.081981</td>\n",
       "      <td>51.590606</td>\n",
       "      <td>0.941500</td>\n",
       "      <td>6283</td>\n",
       "      <td>88.374495</td>\n",
       "      <td>0.489975</td>\n",
       "      <td>338.613</td>\n",
       "      <td>0.672274</td>\n",
       "      <td>2.967245</td>\n",
       "      <td>0</td>\n",
       "    </tr>\n",
       "  </tbody>\n",
       "</table>\n",
       "<p>18185 rows × 11 columns</p>\n",
       "</div>"
      ],
      "text/plain": [
       "       Area  MajorAxisLength  MinorAxisLength  Eccentricity  ConvexArea  \\\n",
       "0      4537        92.229316        64.012769      0.719916        4677   \n",
       "1      2872        74.691881        51.400454      0.725553        3015   \n",
       "2      3048        76.293164        52.043491      0.731211        3132   \n",
       "3      3073        77.033628        51.928487      0.738639        3157   \n",
       "4      3693        85.124785        56.374021      0.749282        3802   \n",
       "...     ...              ...              ...           ...         ...   \n",
       "18180  5853       148.624571        51.029281      0.939210        6008   \n",
       "18181  7585       169.593996        58.141659      0.939398        7806   \n",
       "18182  6365       154.777085        52.908085      0.939760        6531   \n",
       "18183  5960       151.397924        51.474600      0.940427        6189   \n",
       "18184  6134       153.081981        51.590606      0.941500        6283   \n",
       "\n",
       "       EquivDiameter    Extent  Perimeter  Roundness  AspectRation  Class  \n",
       "0          76.004525  0.657536    273.085   0.764510      1.440796      1  \n",
       "1          60.471018  0.713009    208.317   0.831658      1.453137      1  \n",
       "2          62.296341  0.759153    210.012   0.868434      1.465950      1  \n",
       "3          62.551300  0.783529    210.657   0.870203      1.483456      1  \n",
       "4          68.571668  0.769375    230.332   0.874743      1.510000      1  \n",
       "...              ...       ...        ...        ...           ...    ...  \n",
       "18180      86.326537  0.498594    332.960   0.663444      2.912535      0  \n",
       "18181      98.272692  0.647461    385.506   0.641362      2.916910      0  \n",
       "18182      90.023162  0.561287    342.253   0.682832      2.925396      0  \n",
       "18183      87.112041  0.492399    343.371   0.635227      2.941216      0  \n",
       "18184      88.374495  0.489975    338.613   0.672274      2.967245      0  \n",
       "\n",
       "[18185 rows x 11 columns]"
      ]
     },
     "execution_count": 2,
     "metadata": {},
     "output_type": "execute_result"
    }
   ],
   "source": [
    "df= pd.read_csv(r\"D:\\KETAN\\AWS\\Rice_Classification\\artifacts\\riceClassification.csv\")\n",
    "df.drop(\"id\", axis = 1, inplace = True)\n",
    "df"
   ]
  },
  {
   "cell_type": "code",
   "execution_count": 3,
   "id": "8fe81fe7",
   "metadata": {},
   "outputs": [
    {
     "data": {
      "text/plain": [
       "(18185, 11)"
      ]
     },
     "execution_count": 3,
     "metadata": {},
     "output_type": "execute_result"
    }
   ],
   "source": [
    "df.shape"
   ]
  },
  {
   "cell_type": "code",
   "execution_count": 4,
   "id": "7e3c30ab",
   "metadata": {},
   "outputs": [
    {
     "name": "stdout",
     "output_type": "stream",
     "text": [
      "<class 'pandas.core.frame.DataFrame'>\n",
      "RangeIndex: 18185 entries, 0 to 18184\n",
      "Data columns (total 11 columns):\n",
      " #   Column           Non-Null Count  Dtype  \n",
      "---  ------           --------------  -----  \n",
      " 0   Area             18185 non-null  int64  \n",
      " 1   MajorAxisLength  18185 non-null  float64\n",
      " 2   MinorAxisLength  18185 non-null  float64\n",
      " 3   Eccentricity     18185 non-null  float64\n",
      " 4   ConvexArea       18185 non-null  int64  \n",
      " 5   EquivDiameter    18185 non-null  float64\n",
      " 6   Extent           18185 non-null  float64\n",
      " 7   Perimeter        18185 non-null  float64\n",
      " 8   Roundness        18185 non-null  float64\n",
      " 9   AspectRation     18185 non-null  float64\n",
      " 10  Class            18185 non-null  int64  \n",
      "dtypes: float64(8), int64(3)\n",
      "memory usage: 1.5 MB\n"
     ]
    }
   ],
   "source": [
    "df.info()"
   ]
  },
  {
   "cell_type": "code",
   "execution_count": 5,
   "id": "4ff60478",
   "metadata": {},
   "outputs": [
    {
     "data": {
      "text/html": [
       "<div>\n",
       "<style scoped>\n",
       "    .dataframe tbody tr th:only-of-type {\n",
       "        vertical-align: middle;\n",
       "    }\n",
       "\n",
       "    .dataframe tbody tr th {\n",
       "        vertical-align: top;\n",
       "    }\n",
       "\n",
       "    .dataframe thead th {\n",
       "        text-align: right;\n",
       "    }\n",
       "</style>\n",
       "<table border=\"1\" class=\"dataframe\">\n",
       "  <thead>\n",
       "    <tr style=\"text-align: right;\">\n",
       "      <th></th>\n",
       "      <th>Area</th>\n",
       "      <th>MajorAxisLength</th>\n",
       "      <th>MinorAxisLength</th>\n",
       "      <th>Eccentricity</th>\n",
       "      <th>ConvexArea</th>\n",
       "      <th>EquivDiameter</th>\n",
       "      <th>Extent</th>\n",
       "      <th>Perimeter</th>\n",
       "      <th>Roundness</th>\n",
       "      <th>AspectRation</th>\n",
       "      <th>Class</th>\n",
       "    </tr>\n",
       "  </thead>\n",
       "  <tbody>\n",
       "    <tr>\n",
       "      <th>count</th>\n",
       "      <td>18185.000000</td>\n",
       "      <td>18185.000000</td>\n",
       "      <td>18185.000000</td>\n",
       "      <td>18185.000000</td>\n",
       "      <td>18185.000000</td>\n",
       "      <td>18185.000000</td>\n",
       "      <td>18185.000000</td>\n",
       "      <td>18185.000000</td>\n",
       "      <td>18185.000000</td>\n",
       "      <td>18185.000000</td>\n",
       "      <td>18185.000000</td>\n",
       "    </tr>\n",
       "    <tr>\n",
       "      <th>mean</th>\n",
       "      <td>7036.492989</td>\n",
       "      <td>151.680754</td>\n",
       "      <td>59.807851</td>\n",
       "      <td>0.915406</td>\n",
       "      <td>7225.817872</td>\n",
       "      <td>94.132952</td>\n",
       "      <td>0.616653</td>\n",
       "      <td>351.606949</td>\n",
       "      <td>0.707998</td>\n",
       "      <td>2.599081</td>\n",
       "      <td>0.549079</td>\n",
       "    </tr>\n",
       "    <tr>\n",
       "      <th>std</th>\n",
       "      <td>1467.197150</td>\n",
       "      <td>12.376402</td>\n",
       "      <td>10.061653</td>\n",
       "      <td>0.030575</td>\n",
       "      <td>1502.006571</td>\n",
       "      <td>9.906250</td>\n",
       "      <td>0.104389</td>\n",
       "      <td>29.500620</td>\n",
       "      <td>0.067310</td>\n",
       "      <td>0.434836</td>\n",
       "      <td>0.497599</td>\n",
       "    </tr>\n",
       "    <tr>\n",
       "      <th>min</th>\n",
       "      <td>2522.000000</td>\n",
       "      <td>74.133114</td>\n",
       "      <td>34.409894</td>\n",
       "      <td>0.676647</td>\n",
       "      <td>2579.000000</td>\n",
       "      <td>56.666658</td>\n",
       "      <td>0.383239</td>\n",
       "      <td>197.015000</td>\n",
       "      <td>0.174590</td>\n",
       "      <td>1.358128</td>\n",
       "      <td>0.000000</td>\n",
       "    </tr>\n",
       "    <tr>\n",
       "      <th>25%</th>\n",
       "      <td>5962.000000</td>\n",
       "      <td>145.675910</td>\n",
       "      <td>51.393151</td>\n",
       "      <td>0.891617</td>\n",
       "      <td>6125.000000</td>\n",
       "      <td>87.126656</td>\n",
       "      <td>0.538530</td>\n",
       "      <td>333.990000</td>\n",
       "      <td>0.650962</td>\n",
       "      <td>2.208527</td>\n",
       "      <td>0.000000</td>\n",
       "    </tr>\n",
       "    <tr>\n",
       "      <th>50%</th>\n",
       "      <td>6660.000000</td>\n",
       "      <td>153.883750</td>\n",
       "      <td>55.724288</td>\n",
       "      <td>0.923259</td>\n",
       "      <td>6843.000000</td>\n",
       "      <td>92.085696</td>\n",
       "      <td>0.601194</td>\n",
       "      <td>353.088000</td>\n",
       "      <td>0.701941</td>\n",
       "      <td>2.602966</td>\n",
       "      <td>1.000000</td>\n",
       "    </tr>\n",
       "    <tr>\n",
       "      <th>75%</th>\n",
       "      <td>8423.000000</td>\n",
       "      <td>160.056214</td>\n",
       "      <td>70.156593</td>\n",
       "      <td>0.941372</td>\n",
       "      <td>8645.000000</td>\n",
       "      <td>103.559146</td>\n",
       "      <td>0.695664</td>\n",
       "      <td>373.003000</td>\n",
       "      <td>0.769280</td>\n",
       "      <td>2.964101</td>\n",
       "      <td>1.000000</td>\n",
       "    </tr>\n",
       "    <tr>\n",
       "      <th>max</th>\n",
       "      <td>10210.000000</td>\n",
       "      <td>183.211434</td>\n",
       "      <td>82.550762</td>\n",
       "      <td>0.966774</td>\n",
       "      <td>11008.000000</td>\n",
       "      <td>114.016559</td>\n",
       "      <td>0.886573</td>\n",
       "      <td>508.511000</td>\n",
       "      <td>0.904748</td>\n",
       "      <td>3.911845</td>\n",
       "      <td>1.000000</td>\n",
       "    </tr>\n",
       "  </tbody>\n",
       "</table>\n",
       "</div>"
      ],
      "text/plain": [
       "               Area  MajorAxisLength  MinorAxisLength  Eccentricity  \\\n",
       "count  18185.000000     18185.000000     18185.000000  18185.000000   \n",
       "mean    7036.492989       151.680754        59.807851      0.915406   \n",
       "std     1467.197150        12.376402        10.061653      0.030575   \n",
       "min     2522.000000        74.133114        34.409894      0.676647   \n",
       "25%     5962.000000       145.675910        51.393151      0.891617   \n",
       "50%     6660.000000       153.883750        55.724288      0.923259   \n",
       "75%     8423.000000       160.056214        70.156593      0.941372   \n",
       "max    10210.000000       183.211434        82.550762      0.966774   \n",
       "\n",
       "         ConvexArea  EquivDiameter        Extent     Perimeter     Roundness  \\\n",
       "count  18185.000000   18185.000000  18185.000000  18185.000000  18185.000000   \n",
       "mean    7225.817872      94.132952      0.616653    351.606949      0.707998   \n",
       "std     1502.006571       9.906250      0.104389     29.500620      0.067310   \n",
       "min     2579.000000      56.666658      0.383239    197.015000      0.174590   \n",
       "25%     6125.000000      87.126656      0.538530    333.990000      0.650962   \n",
       "50%     6843.000000      92.085696      0.601194    353.088000      0.701941   \n",
       "75%     8645.000000     103.559146      0.695664    373.003000      0.769280   \n",
       "max    11008.000000     114.016559      0.886573    508.511000      0.904748   \n",
       "\n",
       "       AspectRation         Class  \n",
       "count  18185.000000  18185.000000  \n",
       "mean       2.599081      0.549079  \n",
       "std        0.434836      0.497599  \n",
       "min        1.358128      0.000000  \n",
       "25%        2.208527      0.000000  \n",
       "50%        2.602966      1.000000  \n",
       "75%        2.964101      1.000000  \n",
       "max        3.911845      1.000000  "
      ]
     },
     "execution_count": 5,
     "metadata": {},
     "output_type": "execute_result"
    }
   ],
   "source": [
    "df.describe()"
   ]
  },
  {
   "cell_type": "markdown",
   "id": "4de88393",
   "metadata": {},
   "source": [
    "##  linearity"
   ]
  },
  {
   "cell_type": "code",
   "execution_count": 6,
   "id": "98f5c9dc",
   "metadata": {},
   "outputs": [
    {
     "data": {
      "text/html": [
       "<div>\n",
       "<style scoped>\n",
       "    .dataframe tbody tr th:only-of-type {\n",
       "        vertical-align: middle;\n",
       "    }\n",
       "\n",
       "    .dataframe tbody tr th {\n",
       "        vertical-align: top;\n",
       "    }\n",
       "\n",
       "    .dataframe thead th {\n",
       "        text-align: right;\n",
       "    }\n",
       "</style>\n",
       "<table border=\"1\" class=\"dataframe\">\n",
       "  <thead>\n",
       "    <tr style=\"text-align: right;\">\n",
       "      <th></th>\n",
       "      <th>Area</th>\n",
       "      <th>MajorAxisLength</th>\n",
       "      <th>MinorAxisLength</th>\n",
       "      <th>Eccentricity</th>\n",
       "      <th>ConvexArea</th>\n",
       "      <th>EquivDiameter</th>\n",
       "      <th>Extent</th>\n",
       "      <th>Perimeter</th>\n",
       "      <th>Roundness</th>\n",
       "      <th>AspectRation</th>\n",
       "      <th>Class</th>\n",
       "    </tr>\n",
       "  </thead>\n",
       "  <tbody>\n",
       "    <tr>\n",
       "      <th>Class</th>\n",
       "      <td>-0.816589</td>\n",
       "      <td>-0.147741</td>\n",
       "      <td>-0.917766</td>\n",
       "      <td>0.788636</td>\n",
       "      <td>-0.814214</td>\n",
       "      <td>-0.809361</td>\n",
       "      <td>-0.30344</td>\n",
       "      <td>-0.533274</td>\n",
       "      <td>-0.831759</td>\n",
       "      <td>0.832563</td>\n",
       "      <td>1.0</td>\n",
       "    </tr>\n",
       "  </tbody>\n",
       "</table>\n",
       "</div>"
      ],
      "text/plain": [
       "           Area  MajorAxisLength  MinorAxisLength  Eccentricity  ConvexArea  \\\n",
       "Class -0.816589        -0.147741        -0.917766      0.788636   -0.814214   \n",
       "\n",
       "       EquivDiameter   Extent  Perimeter  Roundness  AspectRation  Class  \n",
       "Class      -0.809361 -0.30344  -0.533274  -0.831759      0.832563    1.0  "
      ]
     },
     "execution_count": 6,
     "metadata": {},
     "output_type": "execute_result"
    }
   ],
   "source": [
    "correlation = df.corr().tail(1)\n",
    "correlation"
   ]
  },
  {
   "cell_type": "markdown",
   "id": "b37dbad7",
   "metadata": {},
   "source": [
    "## VIF"
   ]
  },
  {
   "cell_type": "code",
   "execution_count": 7,
   "id": "f07cedbf",
   "metadata": {},
   "outputs": [],
   "source": [
    "vif_list = []\n",
    "for i in range(df.shape[1]-1):\n",
    "    vif = variance_inflation_factor(df.to_numpy(),i)\n",
    "    vif_list.append(vif)"
   ]
  },
  {
   "cell_type": "code",
   "execution_count": 8,
   "id": "d0dd52ff",
   "metadata": {},
   "outputs": [
    {
     "data": {
      "text/plain": [
       "<AxesSubplot:>"
      ]
     },
     "execution_count": 8,
     "metadata": {},
     "output_type": "execute_result"
    },
    {
     "data": {
      "image/png": "[encoded data removed]",
      "text/plain": [
       "<Figure size 640x480 with 1 Axes>"
      ]
     },
     "metadata": {},
     "output_type": "display_data"
    }
   ],
   "source": [
    "s1 = pd.Series(vif_list)\n",
    "s1.sort_values().plot(kind = 'bar')"
   ]
  },
  {
   "cell_type": "markdown",
   "id": "388b0061",
   "metadata": {},
   "source": [
    "# model training"
   ]
  },
  {
   "cell_type": "code",
   "execution_count": 9,
   "id": "3d554b24",
   "metadata": {},
   "outputs": [
    {
     "data": {
      "text/html": [
       "<div>\n",
       "<style scoped>\n",
       "    .dataframe tbody tr th:only-of-type {\n",
       "        vertical-align: middle;\n",
       "    }\n",
       "\n",
       "    .dataframe tbody tr th {\n",
       "        vertical-align: top;\n",
       "    }\n",
       "\n",
       "    .dataframe thead th {\n",
       "        text-align: right;\n",
       "    }\n",
       "</style>\n",
       "<table border=\"1\" class=\"dataframe\">\n",
       "  <thead>\n",
       "    <tr style=\"text-align: right;\">\n",
       "      <th></th>\n",
       "      <th>Area</th>\n",
       "      <th>MajorAxisLength</th>\n",
       "      <th>MinorAxisLength</th>\n",
       "      <th>Eccentricity</th>\n",
       "      <th>ConvexArea</th>\n",
       "      <th>EquivDiameter</th>\n",
       "      <th>Extent</th>\n",
       "      <th>Perimeter</th>\n",
       "      <th>Roundness</th>\n",
       "      <th>AspectRation</th>\n",
       "    </tr>\n",
       "  </thead>\n",
       "  <tbody>\n",
       "    <tr>\n",
       "      <th>13656</th>\n",
       "      <td>6764</td>\n",
       "      <td>138.959974</td>\n",
       "      <td>63.471578</td>\n",
       "      <td>0.889589</td>\n",
       "      <td>7020</td>\n",
       "      <td>92.801898</td>\n",
       "      <td>0.564419</td>\n",
       "      <td>335.550</td>\n",
       "      <td>0.754917</td>\n",
       "      <td>2.189326</td>\n",
       "    </tr>\n",
       "    <tr>\n",
       "      <th>10304</th>\n",
       "      <td>9398</td>\n",
       "      <td>158.060487</td>\n",
       "      <td>76.490519</td>\n",
       "      <td>0.875106</td>\n",
       "      <td>9638</td>\n",
       "      <td>109.388780</td>\n",
       "      <td>0.710678</td>\n",
       "      <td>386.581</td>\n",
       "      <td>0.790250</td>\n",
       "      <td>2.066406</td>\n",
       "    </tr>\n",
       "    <tr>\n",
       "      <th>9132</th>\n",
       "      <td>6841</td>\n",
       "      <td>168.058385</td>\n",
       "      <td>52.419048</td>\n",
       "      <td>0.950112</td>\n",
       "      <td>7008</td>\n",
       "      <td>93.328622</td>\n",
       "      <td>0.581421</td>\n",
       "      <td>371.298</td>\n",
       "      <td>0.623569</td>\n",
       "      <td>3.206056</td>\n",
       "    </tr>\n",
       "    <tr>\n",
       "      <th>10024</th>\n",
       "      <td>5300</td>\n",
       "      <td>150.125463</td>\n",
       "      <td>45.226795</td>\n",
       "      <td>0.953542</td>\n",
       "      <td>5409</td>\n",
       "      <td>82.147243</td>\n",
       "      <td>0.652709</td>\n",
       "      <td>327.945</td>\n",
       "      <td>0.619275</td>\n",
       "      <td>3.319392</td>\n",
       "    </tr>\n",
       "    <tr>\n",
       "      <th>1897</th>\n",
       "      <td>6031</td>\n",
       "      <td>146.156850</td>\n",
       "      <td>53.684437</td>\n",
       "      <td>0.930100</td>\n",
       "      <td>6187</td>\n",
       "      <td>87.629377</td>\n",
       "      <td>0.688470</td>\n",
       "      <td>332.701</td>\n",
       "      <td>0.684685</td>\n",
       "      <td>2.722518</td>\n",
       "    </tr>\n",
       "    <tr>\n",
       "      <th>...</th>\n",
       "      <td>...</td>\n",
       "      <td>...</td>\n",
       "      <td>...</td>\n",
       "      <td>...</td>\n",
       "      <td>...</td>\n",
       "      <td>...</td>\n",
       "      <td>...</td>\n",
       "      <td>...</td>\n",
       "      <td>...</td>\n",
       "      <td>...</td>\n",
       "    </tr>\n",
       "    <tr>\n",
       "      <th>9700</th>\n",
       "      <td>6946</td>\n",
       "      <td>171.520934</td>\n",
       "      <td>52.387963</td>\n",
       "      <td>0.952214</td>\n",
       "      <td>7107</td>\n",
       "      <td>94.042128</td>\n",
       "      <td>0.752220</td>\n",
       "      <td>371.023</td>\n",
       "      <td>0.634078</td>\n",
       "      <td>3.274052</td>\n",
       "    </tr>\n",
       "    <tr>\n",
       "      <th>13632</th>\n",
       "      <td>7695</td>\n",
       "      <td>148.117148</td>\n",
       "      <td>67.682125</td>\n",
       "      <td>0.889492</td>\n",
       "      <td>7952</td>\n",
       "      <td>98.982717</td>\n",
       "      <td>0.562171</td>\n",
       "      <td>358.518</td>\n",
       "      <td>0.752310</td>\n",
       "      <td>2.188423</td>\n",
       "    </tr>\n",
       "    <tr>\n",
       "      <th>9701</th>\n",
       "      <td>6617</td>\n",
       "      <td>167.391904</td>\n",
       "      <td>51.124196</td>\n",
       "      <td>0.952219</td>\n",
       "      <td>6805</td>\n",
       "      <td>91.787941</td>\n",
       "      <td>0.550866</td>\n",
       "      <td>364.839</td>\n",
       "      <td>0.624696</td>\n",
       "      <td>3.274221</td>\n",
       "    </tr>\n",
       "    <tr>\n",
       "      <th>16789</th>\n",
       "      <td>9684</td>\n",
       "      <td>169.855016</td>\n",
       "      <td>73.588708</td>\n",
       "      <td>0.901277</td>\n",
       "      <td>9859</td>\n",
       "      <td>111.040766</td>\n",
       "      <td>0.547583</td>\n",
       "      <td>399.184</td>\n",
       "      <td>0.763692</td>\n",
       "      <td>2.308167</td>\n",
       "    </tr>\n",
       "    <tr>\n",
       "      <th>7399</th>\n",
       "      <td>6876</td>\n",
       "      <td>165.301332</td>\n",
       "      <td>53.823370</td>\n",
       "      <td>0.945505</td>\n",
       "      <td>7045</td>\n",
       "      <td>93.567062</td>\n",
       "      <td>0.472512</td>\n",
       "      <td>372.651</td>\n",
       "      <td>0.622216</td>\n",
       "      <td>3.071181</td>\n",
       "    </tr>\n",
       "  </tbody>\n",
       "</table>\n",
       "<p>13638 rows × 10 columns</p>\n",
       "</div>"
      ],
      "text/plain": [
       "       Area  MajorAxisLength  MinorAxisLength  Eccentricity  ConvexArea  \\\n",
       "13656  6764       138.959974        63.471578      0.889589        7020   \n",
       "10304  9398       158.060487        76.490519      0.875106        9638   \n",
       "9132   6841       168.058385        52.419048      0.950112        7008   \n",
       "10024  5300       150.125463        45.226795      0.953542        5409   \n",
       "1897   6031       146.156850        53.684437      0.930100        6187   \n",
       "...     ...              ...              ...           ...         ...   \n",
       "9700   6946       171.520934        52.387963      0.952214        7107   \n",
       "13632  7695       148.117148        67.682125      0.889492        7952   \n",
       "9701   6617       167.391904        51.124196      0.952219        6805   \n",
       "16789  9684       169.855016        73.588708      0.901277        9859   \n",
       "7399   6876       165.301332        53.823370      0.945505        7045   \n",
       "\n",
       "       EquivDiameter    Extent  Perimeter  Roundness  AspectRation  \n",
       "13656      92.801898  0.564419    335.550   0.754917      2.189326  \n",
       "10304     109.388780  0.710678    386.581   0.790250      2.066406  \n",
       "9132       93.328622  0.581421    371.298   0.623569      3.206056  \n",
       "10024      82.147243  0.652709    327.945   0.619275      3.319392  \n",
       "1897       87.629377  0.688470    332.701   0.684685      2.722518  \n",
       "...              ...       ...        ...        ...           ...  \n",
       "9700       94.042128  0.752220    371.023   0.634078      3.274052  \n",
       "13632      98.982717  0.562171    358.518   0.752310      2.188423  \n",
       "9701       91.787941  0.550866    364.839   0.624696      3.274221  \n",
       "16789     111.040766  0.547583    399.184   0.763692      2.308167  \n",
       "7399       93.567062  0.472512    372.651   0.622216      3.071181  \n",
       "\n",
       "[13638 rows x 10 columns]"
      ]
     },
     "execution_count": 9,
     "metadata": {},
     "output_type": "execute_result"
    }
   ],
   "source": [
    "x= df.drop(\"Class\", axis = 1 )\n",
    "y= df[\"Class\"]\n",
    "x_train, x_test, y_train, y_test = train_test_split(x,y,test_size=0.25, random_state=10, stratify=y)\n",
    "x_train"
   ]
  },
  {
   "cell_type": "code",
   "execution_count": 10,
   "id": "e0fc4bc6",
   "metadata": {},
   "outputs": [
    {
     "data": {
      "text/html": [
       "<div>\n",
       "<style scoped>\n",
       "    .dataframe tbody tr th:only-of-type {\n",
       "        vertical-align: middle;\n",
       "    }\n",
       "\n",
       "    .dataframe tbody tr th {\n",
       "        vertical-align: top;\n",
       "    }\n",
       "\n",
       "    .dataframe thead th {\n",
       "        text-align: right;\n",
       "    }\n",
       "</style>\n",
       "<table border=\"1\" class=\"dataframe\">\n",
       "  <thead>\n",
       "    <tr style=\"text-align: right;\">\n",
       "      <th></th>\n",
       "      <th>Area</th>\n",
       "      <th>MajorAxisLength</th>\n",
       "      <th>MinorAxisLength</th>\n",
       "      <th>Eccentricity</th>\n",
       "      <th>ConvexArea</th>\n",
       "      <th>EquivDiameter</th>\n",
       "      <th>Extent</th>\n",
       "      <th>Perimeter</th>\n",
       "      <th>Roundness</th>\n",
       "      <th>AspectRation</th>\n",
       "    </tr>\n",
       "  </thead>\n",
       "  <tbody>\n",
       "    <tr>\n",
       "      <th>4694</th>\n",
       "      <td>5644</td>\n",
       "      <td>145.411877</td>\n",
       "      <td>50.017730</td>\n",
       "      <td>0.938980</td>\n",
       "      <td>5765</td>\n",
       "      <td>84.771245</td>\n",
       "      <td>0.516755</td>\n",
       "      <td>322.762</td>\n",
       "      <td>0.680820</td>\n",
       "      <td>2.907207</td>\n",
       "    </tr>\n",
       "    <tr>\n",
       "      <th>2426</th>\n",
       "      <td>5839</td>\n",
       "      <td>145.328879</td>\n",
       "      <td>52.602761</td>\n",
       "      <td>0.932195</td>\n",
       "      <td>6016</td>\n",
       "      <td>86.223232</td>\n",
       "      <td>0.524383</td>\n",
       "      <td>328.567</td>\n",
       "      <td>0.679674</td>\n",
       "      <td>2.762761</td>\n",
       "    </tr>\n",
       "    <tr>\n",
       "      <th>17808</th>\n",
       "      <td>6947</td>\n",
       "      <td>146.785384</td>\n",
       "      <td>60.906956</td>\n",
       "      <td>0.909849</td>\n",
       "      <td>7067</td>\n",
       "      <td>94.048897</td>\n",
       "      <td>0.580465</td>\n",
       "      <td>342.206</td>\n",
       "      <td>0.745473</td>\n",
       "      <td>2.409994</td>\n",
       "    </tr>\n",
       "    <tr>\n",
       "      <th>10645</th>\n",
       "      <td>4492</td>\n",
       "      <td>141.808800</td>\n",
       "      <td>41.305062</td>\n",
       "      <td>0.956640</td>\n",
       "      <td>4763</td>\n",
       "      <td>75.626662</td>\n",
       "      <td>0.713016</td>\n",
       "      <td>318.161</td>\n",
       "      <td>0.557642</td>\n",
       "      <td>3.433206</td>\n",
       "    </tr>\n",
       "    <tr>\n",
       "      <th>1201</th>\n",
       "      <td>6207</td>\n",
       "      <td>145.726045</td>\n",
       "      <td>55.071942</td>\n",
       "      <td>0.925841</td>\n",
       "      <td>6318</td>\n",
       "      <td>88.898807</td>\n",
       "      <td>0.522695</td>\n",
       "      <td>328.703</td>\n",
       "      <td>0.721912</td>\n",
       "      <td>2.646103</td>\n",
       "    </tr>\n",
       "    <tr>\n",
       "      <th>...</th>\n",
       "      <td>...</td>\n",
       "      <td>...</td>\n",
       "      <td>...</td>\n",
       "      <td>...</td>\n",
       "      <td>...</td>\n",
       "      <td>...</td>\n",
       "      <td>...</td>\n",
       "      <td>...</td>\n",
       "      <td>...</td>\n",
       "      <td>...</td>\n",
       "    </tr>\n",
       "    <tr>\n",
       "      <th>17415</th>\n",
       "      <td>7863</td>\n",
       "      <td>155.145949</td>\n",
       "      <td>65.901337</td>\n",
       "      <td>0.905301</td>\n",
       "      <td>8082</td>\n",
       "      <td>100.057396</td>\n",
       "      <td>0.572771</td>\n",
       "      <td>361.536</td>\n",
       "      <td>0.755953</td>\n",
       "      <td>2.354215</td>\n",
       "    </tr>\n",
       "    <tr>\n",
       "      <th>2806</th>\n",
       "      <td>5875</td>\n",
       "      <td>146.195932</td>\n",
       "      <td>52.378531</td>\n",
       "      <td>0.933616</td>\n",
       "      <td>6047</td>\n",
       "      <td>86.488625</td>\n",
       "      <td>0.599980</td>\n",
       "      <td>330.120</td>\n",
       "      <td>0.677445</td>\n",
       "      <td>2.791142</td>\n",
       "    </tr>\n",
       "    <tr>\n",
       "      <th>17409</th>\n",
       "      <td>7765</td>\n",
       "      <td>153.720575</td>\n",
       "      <td>65.302572</td>\n",
       "      <td>0.905281</td>\n",
       "      <td>7924</td>\n",
       "      <td>99.431912</td>\n",
       "      <td>0.838462</td>\n",
       "      <td>357.816</td>\n",
       "      <td>0.762135</td>\n",
       "      <td>2.353974</td>\n",
       "    </tr>\n",
       "    <tr>\n",
       "      <th>13394</th>\n",
       "      <td>8852</td>\n",
       "      <td>157.966289</td>\n",
       "      <td>72.440003</td>\n",
       "      <td>0.888654</td>\n",
       "      <td>9071</td>\n",
       "      <td>106.163630</td>\n",
       "      <td>0.575852</td>\n",
       "      <td>376.919</td>\n",
       "      <td>0.782988</td>\n",
       "      <td>2.180650</td>\n",
       "    </tr>\n",
       "    <tr>\n",
       "      <th>2525</th>\n",
       "      <td>4928</td>\n",
       "      <td>132.665811</td>\n",
       "      <td>47.879510</td>\n",
       "      <td>0.932603</td>\n",
       "      <td>5022</td>\n",
       "      <td>79.211896</td>\n",
       "      <td>0.565657</td>\n",
       "      <td>297.868</td>\n",
       "      <td>0.697964</td>\n",
       "      <td>2.770826</td>\n",
       "    </tr>\n",
       "  </tbody>\n",
       "</table>\n",
       "<p>4547 rows × 10 columns</p>\n",
       "</div>"
      ],
      "text/plain": [
       "       Area  MajorAxisLength  MinorAxisLength  Eccentricity  ConvexArea  \\\n",
       "4694   5644       145.411877        50.017730      0.938980        5765   \n",
       "2426   5839       145.328879        52.602761      0.932195        6016   \n",
       "17808  6947       146.785384        60.906956      0.909849        7067   \n",
       "10645  4492       141.808800        41.305062      0.956640        4763   \n",
       "1201   6207       145.726045        55.071942      0.925841        6318   \n",
       "...     ...              ...              ...           ...         ...   \n",
       "17415  7863       155.145949        65.901337      0.905301        8082   \n",
       "2806   5875       146.195932        52.378531      0.933616        6047   \n",
       "17409  7765       153.720575        65.302572      0.905281        7924   \n",
       "13394  8852       157.966289        72.440003      0.888654        9071   \n",
       "2525   4928       132.665811        47.879510      0.932603        5022   \n",
       "\n",
       "       EquivDiameter    Extent  Perimeter  Roundness  AspectRation  \n",
       "4694       84.771245  0.516755    322.762   0.680820      2.907207  \n",
       "2426       86.223232  0.524383    328.567   0.679674      2.762761  \n",
       "17808      94.048897  0.580465    342.206   0.745473      2.409994  \n",
       "10645      75.626662  0.713016    318.161   0.557642      3.433206  \n",
       "1201       88.898807  0.522695    328.703   0.721912      2.646103  \n",
       "...              ...       ...        ...        ...           ...  \n",
       "17415     100.057396  0.572771    361.536   0.755953      2.354215  \n",
       "2806       86.488625  0.599980    330.120   0.677445      2.791142  \n",
       "17409      99.431912  0.838462    357.816   0.762135      2.353974  \n",
       "13394     106.163630  0.575852    376.919   0.782988      2.180650  \n",
       "2525       79.211896  0.565657    297.868   0.697964      2.770826  \n",
       "\n",
       "[4547 rows x 10 columns]"
      ]
     },
     "execution_count": 10,
     "metadata": {},
     "output_type": "execute_result"
    }
   ],
   "source": [
    "x_test"
   ]
  },
  {
   "cell_type": "code",
   "execution_count": 11,
   "id": "78bb0fc3",
   "metadata": {},
   "outputs": [
    {
     "data": {
      "text/plain": [
       "13656    0\n",
       "10304    0\n",
       "9132     1\n",
       "10024    1\n",
       "1897     1\n",
       "        ..\n",
       "9700     1\n",
       "13632    0\n",
       "9701     1\n",
       "16789    0\n",
       "7399     1\n",
       "Name: Class, Length: 13638, dtype: int64"
      ]
     },
     "execution_count": 11,
     "metadata": {},
     "output_type": "execute_result"
    }
   ],
   "source": [
    "y_train"
   ]
  },
  {
   "cell_type": "code",
   "execution_count": 12,
   "id": "4d0fc443",
   "metadata": {},
   "outputs": [
    {
     "data": {
      "text/plain": [
       "4694     1\n",
       "2426     1\n",
       "17808    0\n",
       "10645    1\n",
       "1201     1\n",
       "        ..\n",
       "17415    0\n",
       "2806     1\n",
       "17409    0\n",
       "13394    0\n",
       "2525     1\n",
       "Name: Class, Length: 4547, dtype: int64"
      ]
     },
     "execution_count": 12,
     "metadata": {},
     "output_type": "execute_result"
    }
   ],
   "source": [
    "y_test"
   ]
  },
  {
   "cell_type": "code",
   "execution_count": 13,
   "id": "2cf1a5ec",
   "metadata": {},
   "outputs": [
    {
     "name": "stderr",
     "output_type": "stream",
     "text": [
      "C:\\Users\\Payal Gunjal\\anaconda3\\lib\\site-packages\\sklearn\\linear_model\\_logistic.py:814: ConvergenceWarning: lbfgs failed to converge (status=1):\n",
      "STOP: TOTAL NO. of ITERATIONS REACHED LIMIT.\n",
      "\n",
      "Increase the number of iterations (max_iter) or scale the data as shown in:\n",
      "    https://scikit-learn.org/stable/modules/preprocessing.html\n",
      "Please also refer to the documentation for alternative solver options:\n",
      "    https://scikit-learn.org/stable/modules/linear_model.html#logistic-regression\n",
      "  n_iter_i = _check_optimize_result(\n"
     ]
    },
    {
     "data": {
      "text/plain": [
       "LogisticRegression()"
      ]
     },
     "execution_count": 13,
     "metadata": {},
     "output_type": "execute_result"
    }
   ],
   "source": [
    "# testing\n",
    "model = LogisticRegression()\n",
    "model.fit(x_train, y_train)"
   ]
  },
  {
   "cell_type": "code",
   "execution_count": 14,
   "id": "bc692a95",
   "metadata": {},
   "outputs": [],
   "source": [
    "y_pred = model.predict(x_test)"
   ]
  },
  {
   "cell_type": "code",
   "execution_count": 15,
   "id": "66679bee",
   "metadata": {},
   "outputs": [
    {
     "name": "stdout",
     "output_type": "stream",
     "text": [
      "[[2014   36]\n",
      " [  14 2483]]\n",
      "              precision    recall  f1-score   support\n",
      "\n",
      "           0       0.99      0.98      0.99      2050\n",
      "           1       0.99      0.99      0.99      2497\n",
      "\n",
      "    accuracy                           0.99      4547\n",
      "   macro avg       0.99      0.99      0.99      4547\n",
      "weighted avg       0.99      0.99      0.99      4547\n",
      "\n",
      "0.9890037387288322\n"
     ]
    }
   ],
   "source": [
    "# confusion matrix\n",
    "cm = confusion_matrix(y_test, y_pred)\n",
    "print(cm)\n",
    "# classification report\n",
    "cr = classification_report(y_test, y_pred)\n",
    "print(cr)\n",
    "# accuracy\n",
    "accuracy = accuracy_score(y_test, y_pred)\n",
    "print(accuracy)"
   ]
  },
  {
   "cell_type": "code",
   "execution_count": 16,
   "id": "d716050b",
   "metadata": {},
   "outputs": [
    {
     "data": {
      "image/png": "[encoded data removed]",
      "text/plain": [
       "<Figure size 1000x500 with 2 Axes>"
      ]
     },
     "metadata": {},
     "output_type": "display_data"
    }
   ],
   "source": [
    "plt.figure(figsize=(10,5))\n",
    "cnf_matrix = confusion_matrix(y_test, y_pred)\n",
    "sns.heatmap(cnf_matrix,annot = True)\n",
    "plt.savefig('Confusion_Matrix_Test.png')"
   ]
  },
  {
   "cell_type": "code",
   "execution_count": 17,
   "id": "a71291d7",
   "metadata": {},
   "outputs": [],
   "source": [
    "# training\n",
    "y_pred_train = model.predict( x_train)"
   ]
  },
  {
   "cell_type": "code",
   "execution_count": 18,
   "id": "864f9ec1",
   "metadata": {},
   "outputs": [
    {
     "name": "stdout",
     "output_type": "stream",
     "text": [
      "[[6060   90]\n",
      " [  50 7438]]\n",
      "              precision    recall  f1-score   support\n",
      "\n",
      "           0       0.99      0.99      0.99      6150\n",
      "           1       0.99      0.99      0.99      7488\n",
      "\n",
      "    accuracy                           0.99     13638\n",
      "   macro avg       0.99      0.99      0.99     13638\n",
      "weighted avg       0.99      0.99      0.99     13638\n",
      "\n",
      "0.9897345651855111\n"
     ]
    }
   ],
   "source": [
    "# confusion matrix\n",
    "cm = confusion_matrix(y_train, y_pred_train)\n",
    "print(cm)\n",
    "# classification report\n",
    "cr = classification_report(y_train, y_pred_train)\n",
    "print(cr)\n",
    "# accuracy\n",
    "accuracy = accuracy_score(y_train, y_pred_train)\n",
    "print(accuracy)"
   ]
  },
  {
   "cell_type": "code",
   "execution_count": 19,
   "id": "dc6576f5",
   "metadata": {},
   "outputs": [
    {
     "name": "stderr",
     "output_type": "stream",
     "text": [
      "C:\\Users\\Payal Gunjal\\anaconda3\\lib\\site-packages\\sklearn\\utils\\deprecation.py:87: FutureWarning: Function plot_confusion_matrix is deprecated; Function `plot_confusion_matrix` is deprecated in 1.0 and will be removed in 1.2. Use one of the class methods: ConfusionMatrixDisplay.from_predictions or ConfusionMatrixDisplay.from_estimator.\n",
      "  warnings.warn(msg, category=FutureWarning)\n"
     ]
    },
    {
     "data": {
      "text/plain": [
       "<Figure size 800x600 with 0 Axes>"
      ]
     },
     "metadata": {},
     "output_type": "display_data"
    },
    {
     "data": {
      "image/png": "[encoded data removed]",
      "text/plain": [
       "<Figure size 640x480 with 2 Axes>"
      ]
     },
     "metadata": {},
     "output_type": "display_data"
    }
   ],
   "source": [
    "plt.figure(figsize=(8,6))\n",
    "plot_confusion_matrix(model,x_train, y_train)\n",
    "plt.savefig('CNF_Matrix_train.png')\n",
    "plt.show()"
   ]
  },
  {
   "cell_type": "code",
   "execution_count": 20,
   "id": "6231d7fb",
   "metadata": {},
   "outputs": [],
   "source": [
    "TN = 6060\n",
    "TP = 7438\n",
    "FN = 50\n",
    "FP = 90"
   ]
  },
  {
   "cell_type": "code",
   "execution_count": 21,
   "id": "64f3da2a",
   "metadata": {},
   "outputs": [
    {
     "data": {
      "text/plain": [
       "0.9933226495726496"
      ]
     },
     "execution_count": 21,
     "metadata": {},
     "output_type": "execute_result"
    }
   ],
   "source": [
    "TPR = TP / (TP + FN)\n",
    "TPR"
   ]
  },
  {
   "cell_type": "code",
   "execution_count": 22,
   "id": "286f515d",
   "metadata": {},
   "outputs": [
    {
     "data": {
      "text/plain": [
       "0.9853658536585366"
      ]
     },
     "execution_count": 22,
     "metadata": {},
     "output_type": "execute_result"
    }
   ],
   "source": [
    "TNR = TN / ( TN + FP )\n",
    "TNR"
   ]
  },
  {
   "cell_type": "code",
   "execution_count": 23,
   "id": "0e370c91",
   "metadata": {},
   "outputs": [
    {
     "data": {
      "text/plain": [
       "0.014634146341463415"
      ]
     },
     "execution_count": 23,
     "metadata": {},
     "output_type": "execute_result"
    }
   ],
   "source": [
    "FPR = FP / (TN + FP )\n",
    "FPR"
   ]
  },
  {
   "cell_type": "code",
   "execution_count": 24,
   "id": "b4cbab09",
   "metadata": {},
   "outputs": [
    {
     "data": {
      "text/plain": [
       "0.006677350427350427"
      ]
     },
     "execution_count": 24,
     "metadata": {},
     "output_type": "execute_result"
    }
   ],
   "source": [
    "FNR = FN / (TP + FN )\n",
    "FNR"
   ]
  },
  {
   "cell_type": "code",
   "execution_count": 25,
   "id": "17c987ba",
   "metadata": {},
   "outputs": [
    {
     "data": {
      "text/plain": [
       "1    9985\n",
       "0    8200\n",
       "Name: Class, dtype: int64"
      ]
     },
     "execution_count": 25,
     "metadata": {},
     "output_type": "execute_result"
    }
   ],
   "source": [
    "y.value_counts()"
   ]
  },
  {
   "cell_type": "code",
   "execution_count": 26,
   "id": "969e04d8",
   "metadata": {},
   "outputs": [
    {
     "data": {
      "text/plain": [
       "18185"
      ]
     },
     "execution_count": 26,
     "metadata": {},
     "output_type": "execute_result"
    }
   ],
   "source": [
    "df.shape[0]"
   ]
  },
  {
   "cell_type": "code",
   "execution_count": 27,
   "id": "eaf6a90a",
   "metadata": {},
   "outputs": [
    {
     "data": {
      "text/plain": [
       "0.5490789111905416"
      ]
     },
     "execution_count": 27,
     "metadata": {},
     "output_type": "execute_result"
    }
   ],
   "source": [
    "9985/18185"
   ]
  },
  {
   "cell_type": "code",
   "execution_count": 28,
   "id": "77b6c418",
   "metadata": {},
   "outputs": [
    {
     "data": {
      "text/plain": [
       "0.45092108880945836"
      ]
     },
     "execution_count": 28,
     "metadata": {},
     "output_type": "execute_result"
    }
   ],
   "source": [
    "8200/18185"
   ]
  },
  {
   "cell_type": "markdown",
   "id": "f59dfce2",
   "metadata": {},
   "source": [
    "##  ROC"
   ]
  },
  {
   "cell_type": "code",
   "execution_count": 29,
   "id": "b0fc7f5e",
   "metadata": {},
   "outputs": [
    {
     "data": {
      "text/plain": [
       "array([[9.73971373e-01, 2.60286270e-02],\n",
       "       [9.99999904e-01, 9.61270228e-08],\n",
       "       [1.38339048e-04, 9.99861661e-01],\n",
       "       [1.44283595e-06, 9.99998557e-01],\n",
       "       [4.46132402e-03, 9.95538676e-01],\n",
       "       [1.39001741e-04, 9.99860998e-01],\n",
       "       [9.99976603e-01, 2.33972394e-05],\n",
       "       [9.99999589e-01, 4.10823395e-07],\n",
       "       [2.07697167e-04, 9.99792303e-01],\n",
       "       [9.99997120e-01, 2.88025785e-06]])"
      ]
     },
     "execution_count": 29,
     "metadata": {},
     "output_type": "execute_result"
    }
   ],
   "source": [
    "y_pred_train_prob = model.predict_proba(x_train)\n",
    "y_pred_train_prob[:10]"
   ]
  },
  {
   "cell_type": "code",
   "execution_count": 30,
   "id": "cd552ebe",
   "metadata": {},
   "outputs": [
    {
     "data": {
      "text/plain": [
       "13656    0\n",
       "10304    0\n",
       "9132     1\n",
       "10024    1\n",
       "1897     1\n",
       "3380     1\n",
       "14967    0\n",
       "14291    0\n",
       "5773     1\n",
       "12164    0\n",
       "Name: Class, dtype: int64"
      ]
     },
     "execution_count": 30,
     "metadata": {},
     "output_type": "execute_result"
    }
   ],
   "source": [
    "y_train[:10]"
   ]
  },
  {
   "cell_type": "code",
   "execution_count": 31,
   "id": "090dfb1a",
   "metadata": {},
   "outputs": [
    {
     "data": {
      "text/plain": [
       "array([0, 0, 1, 1, 1, 1, 0, 0, 1, 0], dtype=int64)"
      ]
     },
     "execution_count": 31,
     "metadata": {},
     "output_type": "execute_result"
    }
   ],
   "source": [
    "y_pred_train[:10]"
   ]
  },
  {
   "cell_type": "code",
   "execution_count": 32,
   "id": "f0f39e65",
   "metadata": {},
   "outputs": [],
   "source": [
    "fpr, tpr, thresh = roc_curve(y_train,y_pred_train_prob[:,1])"
   ]
  },
  {
   "cell_type": "code",
   "execution_count": 33,
   "id": "5082551e",
   "metadata": {},
   "outputs": [
    {
     "data": {
      "image/png": "[encoded data removed]",
      "text/plain": [
       "<Figure size 700x500 with 1 Axes>"
      ]
     },
     "metadata": {},
     "output_type": "display_data"
    }
   ],
   "source": [
    "plt.figure(figsize=(7,5))\n",
    "plt.plot(fpr,tpr)\n",
    "plt.xlabel('False Positive Rate (FPR)')\n",
    "plt.ylabel('True Positive Rate (TPR)')\n",
    "plt.title(\"ROC Curve\")\n",
    "plt.savefig(\"ROC_Curve.png\")"
   ]
  },
  {
   "cell_type": "code",
   "execution_count": 34,
   "id": "7c21a20e",
   "metadata": {},
   "outputs": [
    {
     "data": {
      "text/plain": [
       "(array([214, 215, 216, 217, 218, 219, 220, 221, 222, 223, 224, 225, 226,\n",
       "        227], dtype=int64),)"
      ]
     },
     "execution_count": 34,
     "metadata": {},
     "output_type": "execute_result"
    }
   ],
   "source": [
    "# if we want TPR greater than 99.9%\n",
    "index = np.where( tpr > 0.999 )\n",
    "index"
   ]
  },
  {
   "cell_type": "code",
   "execution_count": 35,
   "id": "9a66007e",
   "metadata": {},
   "outputs": [
    {
     "data": {
      "text/plain": [
       "array([0.04910569, 0.05203252, 0.05203252, 0.05528455, 0.05528455,\n",
       "       0.05544715, 0.05544715, 0.06      , 0.06      , 0.06569106,\n",
       "       0.06569106, 0.12780488, 0.12780488, 1.        ])"
      ]
     },
     "execution_count": 35,
     "metadata": {},
     "output_type": "execute_result"
    }
   ],
   "source": [
    "fpr[index]"
   ]
  },
  {
   "cell_type": "code",
   "execution_count": 36,
   "id": "012c33e0",
   "metadata": {},
   "outputs": [
    {
     "data": {
      "text/plain": [
       "array([8.13030384e-02, 6.87366440e-02, 6.87284209e-02, 5.82471839e-02,\n",
       "       5.81526976e-02, 5.73513227e-02, 5.73044406e-02, 4.88708494e-02,\n",
       "       4.81804509e-02, 3.94028165e-02, 3.88069470e-02, 7.22730924e-03,\n",
       "       7.20690583e-03, 7.15482261e-10])"
      ]
     },
     "execution_count": 36,
     "metadata": {},
     "output_type": "execute_result"
    }
   ],
   "source": [
    "thresh[index]"
   ]
  },
  {
   "cell_type": "code",
   "execution_count": 37,
   "id": "83032a3e",
   "metadata": {},
   "outputs": [],
   "source": [
    "# selected thrld 3.88069470e-02 , bcz we want tpr >99.9%"
   ]
  },
  {
   "cell_type": "code",
   "execution_count": 38,
   "id": "a324676d",
   "metadata": {},
   "outputs": [
    {
     "name": "stderr",
     "output_type": "stream",
     "text": [
      "C:\\Users\\Payal Gunjal\\anaconda3\\lib\\site-packages\\sklearn\\base.py:450: UserWarning: X does not have valid feature names, but LogisticRegression was fitted with feature names\n",
      "  warnings.warn(\n"
     ]
    }
   ],
   "source": [
    "test_array = np.array([[6801, 139.2, 64.5, 0.91, 8010, 94.34, 0.65, 337.2, 0.7434, 2.36]])\n",
    "def get_pred_class(new_thr , new_observation):\n",
    "    prob = new_observation[0][0]\n",
    "    if prob >= new_thr:\n",
    "        print(\"Class 0\")\n",
    "    else:\n",
    "        print(\"Class 1\")\n",
    "new_thr = 0.038806947\n",
    "new_observation = model.predict_proba(test_array)"
   ]
  },
  {
   "cell_type": "code",
   "execution_count": 39,
   "id": "5a6b71ac",
   "metadata": {},
   "outputs": [
    {
     "name": "stdout",
     "output_type": "stream",
     "text": [
      "Class 0\n"
     ]
    }
   ],
   "source": [
    "get_pred_class(new_thr, new_observation)"
   ]
  },
  {
   "cell_type": "code",
   "execution_count": null,
   "id": "e4daa32a",
   "metadata": {},
   "outputs": [],
   "source": []
  },
  {
   "cell_type": "code",
   "execution_count": 46,
   "id": "0ed15215",
   "metadata": {},
   "outputs": [
    {
     "ename": "TypeError",
     "evalue": "load() takes exactly 1 positional argument (2 given)",
     "output_type": "error",
     "traceback": [
      "\u001b[1;31m---------------------------------------------------------------------------\u001b[0m",
      "\u001b[1;31mTypeError\u001b[0m                                 Traceback (most recent call last)",
      "\u001b[1;32m~\\AppData\\Local\\Temp\\ipykernel_23100\\762051637.py\u001b[0m in \u001b[0;36m<module>\u001b[1;34m\u001b[0m\n\u001b[0;32m      1\u001b[0m \u001b[1;32mwith\u001b[0m \u001b[0mopen\u001b[0m\u001b[1;33m(\u001b[0m\u001b[1;34m\"model.pkl\"\u001b[0m\u001b[1;33m,\u001b[0m\u001b[1;34m\"wb\"\u001b[0m\u001b[1;33m)\u001b[0m \u001b[1;32mas\u001b[0m \u001b[0mf\u001b[0m\u001b[1;33m:\u001b[0m\u001b[1;33m\u001b[0m\u001b[1;33m\u001b[0m\u001b[0m\n\u001b[1;32m----> 2\u001b[1;33m     \u001b[0mpickle\u001b[0m\u001b[1;33m.\u001b[0m\u001b[0mload\u001b[0m\u001b[1;33m(\u001b[0m\u001b[0mmodel\u001b[0m\u001b[1;33m,\u001b[0m\u001b[0mf\u001b[0m\u001b[1;33m)\u001b[0m\u001b[1;33m\u001b[0m\u001b[1;33m\u001b[0m\u001b[0m\n\u001b[0m",
      "\u001b[1;31mTypeError\u001b[0m: load() takes exactly 1 positional argument (2 given)"
     ]
    }
   ],
   "source": [
    "with open(\"model.pkl\",\"wb\") as f:\n",
    "    pickle.load(model,f)"
   ]
  },
  {
   "cell_type": "code",
   "execution_count": null,
   "id": "dcdfed1d",
   "metadata": {},
   "outputs": [],
   "source": []
  }
 ],
 "metadata": {
  "kernelspec": {
   "display_name": "Python 3 (ipykernel)",
   "language": "python",
   "name": "python3"
  },
  "language_info": {
   "codemirror_mode": {
    "name": "ipython",
    "version": 3
   },
   "file_extension": ".py",
   "mimetype": "text/x-python",
   "name": "python",
   "nbconvert_exporter": "python",
   "pygments_lexer": "ipython3",
   "version": "3.9.13"
  }
 },
 "nbformat": 4,
 "nbformat_minor": 5
}
